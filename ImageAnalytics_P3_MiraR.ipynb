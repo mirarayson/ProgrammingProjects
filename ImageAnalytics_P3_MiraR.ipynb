{
 "cells": [
  {
   "cell_type": "markdown",
   "metadata": {},
   "source": [
    "## Image Analytics Project 3: Classifying land cover using remote sensing data from Microsoft Planetary Computer (MPC)\n",
    "### By Mira Rayson\n",
    "### For James Rapaport\n",
    "### 04/12/2024"
   ]
  },
  {
   "cell_type": "markdown",
   "metadata": {},
   "source": [
    "This code performs a series of operations to classify land cover using remote sensing data from the Microsoft Planetary Computer. The process begins by connecting to the Planetary Computer's STAC API to retrieve a specific Landsat 8 image. It then defines a geographical bounding box to extract a subset of the image, creating a windowed view of the data. The script samples the image's spectral bands at specified coordinates to generate training data, which is used to train a support vector classifier (SVC). The trained model is then applied to classify the entire subset of the image, generating a classified raster. The results are saved in a GeoTIFF format, with additional steps to apply pseudo-coloring based on predefined land cover classes. Finally, the code counts and prints the number of pixels for each classified land cover type in both the newly created classification and an existing land cover classification for comparison. This workflow integrates data retrieval, preprocessing, machine learning classification, and result visualization for land cover analysis."
   ]
  },
  {
   "cell_type": "code",
   "execution_count": 1,
   "metadata": {},
   "outputs": [],
   "source": [
    "# Importing necessary packages\n",
    "import numpy\n",
    "import pystac_client\n",
    "import planetary_computer\n",
    "import shapely\n",
    "import shapely.ops\n",
    "import fiona\n",
    "import sqlite3\n",
    "import rasterio\n",
    "from rasterio.plot import reshape_as_image\n",
    "from rasterio.enums import ColorInterp \n",
    "from rasterio.windows import Window\n",
    "from rasterio import features\n",
    "from rasterio.crs import CRS\n",
    "from rasterio.windows import Window\n",
    "from rasterio.windows import from_bounds\n",
    "from rasterio.windows import  round_window_to_full_blocks\n",
    "from time import time\n",
    "from sklearn.svm import SVC\n",
    "from sklearn.model_selection import train_test_split\n",
    "from sklearn.metrics import confusion_matrix, classification_report, accuracy_score\n",
    "from matplotlib import pyplot\n",
    "from datetime import datetime"
   ]
  },
  {
   "cell_type": "markdown",
   "metadata": {},
   "source": [
    "### Making connection to planetary computer and importing chosen data"
   ]
  },
  {
   "cell_type": "code",
   "execution_count": 2,
   "metadata": {},
   "outputs": [],
   "source": [
    "client = pystac_client.Client.open(\n",
    "    \"https://planetarycomputer.microsoft.com/api/stac/v1\",\n",
    "    modifier=planetary_computer.sign_inplace,\n",
    ")\n",
    "landsat_id = 'LC08_L2SP_008029_20201016_02_T1'\n",
    "search = client.search(\n",
    "    collections=['landsat-c2-l2'],\n",
    "    ids=[landsat_id]\n",
    ")\n",
    "item = search.item_collection()[0]\n",
    "bands = ['blue', 'green', 'red', 'nir08', 'swir16', 'swir22']\n",
    "features = len(bands)\n",
    "\n",
    "right = 472460\n",
    "left = 422400\n",
    "top = 4966160\n",
    "bottom = 4917440\n",
    "\n",
    "bbox = (left, bottom, right, top)"
   ]
  },
  {
   "cell_type": "markdown",
   "metadata": {},
   "source": [
    "### Defining the area of interest and creating a window"
   ]
  },
  {
   "cell_type": "code",
   "execution_count": 3,
   "metadata": {},
   "outputs": [],
   "source": [
    "with rasterio.open(item.assets['blue'].href, 'r') as input:\n",
    "    window=rasterio.windows.from_bounds(*bbox, input.transform)\n",
    "    window=rasterio.windows.round_window_to_full_blocks(\n",
    "                window,\n",
    "                [(input.profile['blockysize'], input.profile['blockxsize'])])\n",
    "  \n",
    "    data=input.read(1, window=window)\n",
    "    \n",
    "    profile=input.profile\n",
    "    ulx, uly=input.xy(int(window.row_off), int(window.col_off), offset='ul')\n",
    "    profile['transform']=rasterio.Affine(\n",
    "        input.transform.a,\n",
    "        input.transform.b,\n",
    "        ulx,\n",
    "        input.transform.d,\n",
    "        input.transform.e,\n",
    "        uly\n",
    "    )\n",
    "    profile['compress']='deflate'\n",
    "    profile['width']=int(window.width)\n",
    "    profile['height']=int(window.height)\n",
    "    profile['driver']='COG'\n",
    "    profile['count']=1\n",
    "    profile['dtype']=rasterio.uint8\n"
   ]
  },
  {
   "cell_type": "markdown",
   "metadata": {},
   "source": [
    "### Sampling the Data"
   ]
  },
  {
   "cell_type": "code",
   "execution_count": 4,
   "metadata": {},
   "outputs": [
    {
     "ename": "DriverError",
     "evalue": "training.gpkg: No such file or directory",
     "output_type": "error",
     "traceback": [
      "\u001b[1;31m---------------------------------------------------------------------------\u001b[0m",
      "\u001b[1;31mCPLE_OpenFailedError\u001b[0m                      Traceback (most recent call last)",
      "File \u001b[1;32mfiona\\\\ogrext.pyx:136\u001b[0m, in \u001b[0;36mfiona.ogrext.gdal_open_vector\u001b[1;34m()\u001b[0m\n",
      "File \u001b[1;32mfiona\\\\_err.pyx:291\u001b[0m, in \u001b[0;36mfiona._err.exc_wrap_pointer\u001b[1;34m()\u001b[0m\n",
      "\u001b[1;31mCPLE_OpenFailedError\u001b[0m: training.gpkg: No such file or directory",
      "\nDuring handling of the above exception, another exception occurred:\n",
      "\u001b[1;31mDriverError\u001b[0m                               Traceback (most recent call last)",
      "Cell \u001b[1;32mIn[4], line 1\u001b[0m\n\u001b[1;32m----> 1\u001b[0m \u001b[38;5;28;01mwith\u001b[39;00m \u001b[43mfiona\u001b[49m\u001b[38;5;241;43m.\u001b[39;49m\u001b[43mopen\u001b[49m\u001b[43m(\u001b[49m\u001b[38;5;124;43m'\u001b[39;49m\u001b[38;5;124;43mtraining.gpkg\u001b[39;49m\u001b[38;5;124;43m'\u001b[39;49m\u001b[43m,\u001b[49m\u001b[43m \u001b[49m\u001b[43mlayer\u001b[49m\u001b[38;5;241;43m=\u001b[39;49m\u001b[38;5;124;43m'\u001b[39;49m\u001b[38;5;124;43mtraining-2020\u001b[39;49m\u001b[38;5;124;43m'\u001b[39;49m\u001b[43m)\u001b[49m \u001b[38;5;28;01mas\u001b[39;00m training:\n\u001b[0;32m      2\u001b[0m     y_labels\u001b[38;5;241m=\u001b[39mnumpy\u001b[38;5;241m.\u001b[39mfromiter([l[\u001b[38;5;124m'\u001b[39m\u001b[38;5;124mproperties\u001b[39m\u001b[38;5;124m'\u001b[39m][\u001b[38;5;124m'\u001b[39m\u001b[38;5;124mcode\u001b[39m\u001b[38;5;124m'\u001b[39m] \u001b[38;5;28;01mfor\u001b[39;00m l \u001b[38;5;129;01min\u001b[39;00m training], numpy\u001b[38;5;241m.\u001b[39muint8)\n\u001b[0;32m      3\u001b[0m     coordinates\u001b[38;5;241m=\u001b[39m[c[\u001b[38;5;124m'\u001b[39m\u001b[38;5;124mgeometry\u001b[39m\u001b[38;5;124m'\u001b[39m][\u001b[38;5;124m'\u001b[39m\u001b[38;5;124mcoordinates\u001b[39m\u001b[38;5;124m'\u001b[39m] \u001b[38;5;28;01mfor\u001b[39;00m c \u001b[38;5;129;01min\u001b[39;00m training]\n",
      "File \u001b[1;32m~\\AppData\\Local\\Packages\\PythonSoftwareFoundation.Python.3.12_qbz5n2kfra8p0\\LocalCache\\local-packages\\Python312\\site-packages\\fiona\\env.py:457\u001b[0m, in \u001b[0;36mensure_env_with_credentials.<locals>.wrapper\u001b[1;34m(*args, **kwds)\u001b[0m\n\u001b[0;32m    454\u001b[0m     session \u001b[38;5;241m=\u001b[39m DummySession()\n\u001b[0;32m    456\u001b[0m \u001b[38;5;28;01mwith\u001b[39;00m env_ctor(session\u001b[38;5;241m=\u001b[39msession):\n\u001b[1;32m--> 457\u001b[0m     \u001b[38;5;28;01mreturn\u001b[39;00m \u001b[43mf\u001b[49m\u001b[43m(\u001b[49m\u001b[38;5;241;43m*\u001b[39;49m\u001b[43margs\u001b[49m\u001b[43m,\u001b[49m\u001b[43m \u001b[49m\u001b[38;5;241;43m*\u001b[39;49m\u001b[38;5;241;43m*\u001b[39;49m\u001b[43mkwds\u001b[49m\u001b[43m)\u001b[49m\n",
      "File \u001b[1;32m~\\AppData\\Local\\Packages\\PythonSoftwareFoundation.Python.3.12_qbz5n2kfra8p0\\LocalCache\\local-packages\\Python312\\site-packages\\fiona\\__init__.py:305\u001b[0m, in \u001b[0;36mopen\u001b[1;34m(fp, mode, driver, schema, crs, encoding, layer, vfs, enabled_drivers, crs_wkt, allow_unsupported_drivers, **kwargs)\u001b[0m\n\u001b[0;32m    302\u001b[0m     path \u001b[38;5;241m=\u001b[39m parse_path(fp)\n\u001b[0;32m    304\u001b[0m \u001b[38;5;28;01mif\u001b[39;00m mode \u001b[38;5;129;01min\u001b[39;00m (\u001b[38;5;124m\"\u001b[39m\u001b[38;5;124ma\u001b[39m\u001b[38;5;124m\"\u001b[39m, \u001b[38;5;124m\"\u001b[39m\u001b[38;5;124mr\u001b[39m\u001b[38;5;124m\"\u001b[39m):\n\u001b[1;32m--> 305\u001b[0m     colxn \u001b[38;5;241m=\u001b[39m \u001b[43mCollection\u001b[49m\u001b[43m(\u001b[49m\n\u001b[0;32m    306\u001b[0m \u001b[43m        \u001b[49m\u001b[43mpath\u001b[49m\u001b[43m,\u001b[49m\n\u001b[0;32m    307\u001b[0m \u001b[43m        \u001b[49m\u001b[43mmode\u001b[49m\u001b[43m,\u001b[49m\n\u001b[0;32m    308\u001b[0m \u001b[43m        \u001b[49m\u001b[43mdriver\u001b[49m\u001b[38;5;241;43m=\u001b[39;49m\u001b[43mdriver\u001b[49m\u001b[43m,\u001b[49m\n\u001b[0;32m    309\u001b[0m \u001b[43m        \u001b[49m\u001b[43mencoding\u001b[49m\u001b[38;5;241;43m=\u001b[39;49m\u001b[43mencoding\u001b[49m\u001b[43m,\u001b[49m\n\u001b[0;32m    310\u001b[0m \u001b[43m        \u001b[49m\u001b[43mlayer\u001b[49m\u001b[38;5;241;43m=\u001b[39;49m\u001b[43mlayer\u001b[49m\u001b[43m,\u001b[49m\n\u001b[0;32m    311\u001b[0m \u001b[43m        \u001b[49m\u001b[43menabled_drivers\u001b[49m\u001b[38;5;241;43m=\u001b[39;49m\u001b[43menabled_drivers\u001b[49m\u001b[43m,\u001b[49m\n\u001b[0;32m    312\u001b[0m \u001b[43m        \u001b[49m\u001b[43mallow_unsupported_drivers\u001b[49m\u001b[38;5;241;43m=\u001b[39;49m\u001b[43mallow_unsupported_drivers\u001b[49m\u001b[43m,\u001b[49m\n\u001b[0;32m    313\u001b[0m \u001b[43m        \u001b[49m\u001b[38;5;241;43m*\u001b[39;49m\u001b[38;5;241;43m*\u001b[39;49m\u001b[43mkwargs\u001b[49m\n\u001b[0;32m    314\u001b[0m \u001b[43m    \u001b[49m\u001b[43m)\u001b[49m\n\u001b[0;32m    315\u001b[0m \u001b[38;5;28;01melif\u001b[39;00m mode \u001b[38;5;241m==\u001b[39m \u001b[38;5;124m\"\u001b[39m\u001b[38;5;124mw\u001b[39m\u001b[38;5;124m\"\u001b[39m:\n\u001b[0;32m    316\u001b[0m     colxn \u001b[38;5;241m=\u001b[39m Collection(\n\u001b[0;32m    317\u001b[0m         path,\n\u001b[0;32m    318\u001b[0m         mode,\n\u001b[1;32m   (...)\u001b[0m\n\u001b[0;32m    327\u001b[0m         \u001b[38;5;241m*\u001b[39m\u001b[38;5;241m*\u001b[39mkwargs\n\u001b[0;32m    328\u001b[0m     )\n",
      "File \u001b[1;32m~\\AppData\\Local\\Packages\\PythonSoftwareFoundation.Python.3.12_qbz5n2kfra8p0\\LocalCache\\local-packages\\Python312\\site-packages\\fiona\\collection.py:243\u001b[0m, in \u001b[0;36mCollection.__init__\u001b[1;34m(self, path, mode, driver, schema, crs, encoding, layer, vsi, archive, enabled_drivers, crs_wkt, ignore_fields, ignore_geometry, include_fields, wkt_version, allow_unsupported_drivers, **kwargs)\u001b[0m\n\u001b[0;32m    241\u001b[0m \u001b[38;5;28;01mif\u001b[39;00m \u001b[38;5;28mself\u001b[39m\u001b[38;5;241m.\u001b[39mmode \u001b[38;5;241m==\u001b[39m \u001b[38;5;124m\"\u001b[39m\u001b[38;5;124mr\u001b[39m\u001b[38;5;124m\"\u001b[39m:\n\u001b[0;32m    242\u001b[0m     \u001b[38;5;28mself\u001b[39m\u001b[38;5;241m.\u001b[39msession \u001b[38;5;241m=\u001b[39m Session()\n\u001b[1;32m--> 243\u001b[0m     \u001b[38;5;28;43mself\u001b[39;49m\u001b[38;5;241;43m.\u001b[39;49m\u001b[43msession\u001b[49m\u001b[38;5;241;43m.\u001b[39;49m\u001b[43mstart\u001b[49m\u001b[43m(\u001b[49m\u001b[38;5;28;43mself\u001b[39;49m\u001b[43m,\u001b[49m\u001b[43m \u001b[49m\u001b[38;5;241;43m*\u001b[39;49m\u001b[38;5;241;43m*\u001b[39;49m\u001b[43mkwargs\u001b[49m\u001b[43m)\u001b[49m\n\u001b[0;32m    244\u001b[0m \u001b[38;5;28;01melif\u001b[39;00m \u001b[38;5;28mself\u001b[39m\u001b[38;5;241m.\u001b[39mmode \u001b[38;5;129;01min\u001b[39;00m (\u001b[38;5;124m\"\u001b[39m\u001b[38;5;124ma\u001b[39m\u001b[38;5;124m\"\u001b[39m, \u001b[38;5;124m\"\u001b[39m\u001b[38;5;124mw\u001b[39m\u001b[38;5;124m\"\u001b[39m):\n\u001b[0;32m    245\u001b[0m     \u001b[38;5;28mself\u001b[39m\u001b[38;5;241m.\u001b[39msession \u001b[38;5;241m=\u001b[39m WritingSession()\n",
      "File \u001b[1;32mfiona\\\\ogrext.pyx:588\u001b[0m, in \u001b[0;36mfiona.ogrext.Session.start\u001b[1;34m()\u001b[0m\n",
      "File \u001b[1;32mfiona\\\\ogrext.pyx:143\u001b[0m, in \u001b[0;36mfiona.ogrext.gdal_open_vector\u001b[1;34m()\u001b[0m\n",
      "\u001b[1;31mDriverError\u001b[0m: training.gpkg: No such file or directory"
     ]
    }
   ],
   "source": [
    "with fiona.open('training.gpkg', layer='training-2020') as training:\n",
    "    y_labels=numpy.fromiter([l['properties']['code'] for l in training], numpy.uint8)\n",
    "    coordinates=[c['geometry']['coordinates'] for c in training]\n",
    "    X_samples=numpy.empty((len(coordinates), features), dtype=numpy.uint16)\n",
    " \n",
    "    for b in bands:\n",
    "        with rasterio.open(item.assets[b].href) as image:\n",
    "            samples=image.sample(coordinates)\n",
    "            samples=numpy.fromiter([s[0] for s in samples],\n",
    "                                     numpy.uint16).reshape(len(y_labels), 1)\n",
    "            numpy.put_along_axis(X_samples,\n",
    "                                 numpy.full_like(samples, bands.index(b)),\n",
    "                                 samples, axis=1)"
   ]
  },
  {
   "cell_type": "markdown",
   "metadata": {},
   "source": [
    "### Printing accuracy assessments and completing classification"
   ]
  },
  {
   "cell_type": "code",
   "execution_count": null,
   "metadata": {},
   "outputs": [],
   "source": [
    "X_train, X_test, y_train, y_test = train_test_split(X_samples, y_labels, test_size=0.7, stratify=y_labels)\n",
    "\n",
    "classification = SVC()\n",
    "classification.fit(X_train, y_train)\n",
    "\n",
    "classification_test = classification.predict(X_test)\n",
    "\n",
    "print('Accuracy Score:')\n",
    "print(f'{accuracy_score(y_test, classification_test)}')\n",
    "print('Classification Report:')\n",
    "print(classification_report(y_test, classification_test, zero_division=1))\n",
    "print('Confusion Matrix:')\n",
    "print(confusion_matrix(y_test, classification_test))\n",
    "\n",
    "with (rasterio.open(f'{landsat_id}_classified_svc_nrcan.tif',\n",
    "                   mode='w',\n",
    "                   **profile) as classified):\n",
    "    data = numpy.empty((window.width * window.height, features), dtype=numpy.uint16)\n",
    "    for b in bands:\n",
    "        with rasterio.open(item.assets[b].href) as band:\n",
    "            data_band = reshape_as_image(\n",
    "                            band.read(window=window)).reshape(-1, 1)\n",
    "            numpy.put_along_axis(data, \n",
    "                                numpy.full_like(data_band, bands.index(b)), \n",
    "                                data_band, axis=1)\n",
    "    prediction = classification.predict(data).reshape(int(window.height), \n",
    "                                                      int(window.width))\n",
    "    \n",
    "    classified.write(prediction, indexes=1)"
   ]
  },
  {
   "cell_type": "markdown",
   "metadata": {},
   "source": [
    "### Applying Pseudo Colour\n"
   ]
  },
  {
   "cell_type": "code",
   "execution_count": null,
   "metadata": {},
   "outputs": [],
   "source": [
    "with sqlite3.connect('training.gpkg') as db:\n",
    "    colours={}\n",
    "    cursor=db.cursor()\n",
    "    cursor.execute(\n",
    "        \"\"\"SELECT code, red, green, blue FROM landcover_class\"\"\"\n",
    "    )\n",
    "    for r in cursor.fetchall():\n",
    "        colours[r[0]] = [r[1], r[2], r[3]]\n",
    "\n",
    "prediction = classification.predict(data).reshape(int(window.height), int(window.width))\n",
    "\n",
    "with rasterio.open(f'{landsat_id}_classified.tif', mode='w', **profile) as classified:\n",
    "    classified.write(prediction, indexes=1)\n",
    "    classified.write_colormap(1, colours)"
   ]
  },
  {
   "cell_type": "markdown",
   "metadata": {},
   "source": [
    "### Counting number of pixels in each class for both classifications"
   ]
  },
  {
   "cell_type": "code",
   "execution_count": null,
   "metadata": {},
   "outputs": [],
   "source": [
    "landcover2020_subset = 'landcover-2020-classification-subset.tif'\n",
    "with rasterio.open(landcover2020_subset) as src:\n",
    "    classification_data=src.read(1)\n",
    "    unique_classes, class_counts=numpy.unique(classification_data, return_counts=True)\n",
    "for class_value, count in zip(unique_classes, class_counts):\n",
    "    print(f\"Class {class_value}: {count} pixels\")\n",
    "\n",
    "landsat_subset = 'LC08_L2SP_008029_20201016_02_T1_classified.tif'\n",
    "with rasterio.open(landsat_subset) as src2:\n",
    "    classification_data2=src2.read(1)\n",
    "    unique_classes2, class_counts2=numpy.unique(classification_data2, return_counts=True)\n",
    "for class_value2, count2 in zip(unique_classes2, class_counts2):\n",
    "    print(f\"Class {class_value2}: {count2} pixels\")"
   ]
  }
 ],
 "metadata": {
  "kernelspec": {
   "display_name": "Python 3",
   "language": "python",
   "name": "python3"
  },
  "language_info": {
   "codemirror_mode": {
    "name": "ipython",
    "version": 3
   },
   "file_extension": ".py",
   "mimetype": "text/x-python",
   "name": "python",
   "nbconvert_exporter": "python",
   "pygments_lexer": "ipython3",
   "version": "3.12.3"
  }
 },
 "nbformat": 4,
 "nbformat_minor": 2
}
