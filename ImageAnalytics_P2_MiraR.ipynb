{
 "cells": [
  {
   "cell_type": "markdown",
   "metadata": {},
   "source": [
    "## Image Analytics Project 2: Enhancing Satellite Imagery from Landsat 9 Data\n",
    "### By Mira Rayson\n",
    "### For James Rapaport\n",
    "### 04/12/2024"
   ]
  },
  {
   "cell_type": "markdown",
   "metadata": {},
   "source": [
    "This project performs a sequence of operations to process and enhance satellite imagery from Landsat 9 data. Initially, it retrieves the red, green, blue, and panchromatic band images, applying radiometric corrections to convert digital numbers to radiance values based on given scale and offset parameters. Following this, the code upscales the lower resolution red, green, and blue bands to match the higher resolution of the panchromatic band using nearest-neighbor resampling. It then applies the Brovey Transformation for pan-sharpening, enhancing the spatial resolution of the RGB bands by integrating the high-resolution panchromatic data. The pan-sharpened images are subsequently converted back to 16-bit unsigned integers. Finally, the code stacks the enhanced red, green, and blue bands into a single output file, ensuring proper color interpretation and datatype consistency. The result is a high-resolution, color-corrected composite image suitable for further analysis or visualization."
   ]
  },
  {
   "cell_type": "code",
   "execution_count": 1,
   "metadata": {},
   "outputs": [],
   "source": [
    "# Importing necessary packages\n",
    "import numpy\n",
    "import rasterio \n",
    "from rasterio.warp import reproject, Resampling\n",
    "from rasterio.enums import ColorInterp"
   ]
  },
  {
   "cell_type": "markdown",
   "metadata": {},
   "source": [
    "### Retrieving red, green, blue, and panchromatic band images."
   ]
  },
  {
   "cell_type": "code",
   "execution_count": 2,
   "metadata": {},
   "outputs": [],
   "source": [
    "red_input = 'LC09_L1TP_009029_20230922_20230922_02_T1_MTL/LC09_L1TP_009029_20230922_20230922_02_T1_B4-subset.tif'\n",
    "green_input = 'LC09_L1TP_009029_20230922_20230922_02_T1_MTL/LC09_L1TP_009029_20230922_20230922_02_T1_B2-subset.tif'\n",
    "blue_input = 'LC09_L1TP_009029_20230922_20230922_02_T1_MTL/LC09_L1TP_009029_20230922_20230922_02_T1_B3-subset.tif'\n",
    "pan_input = 'LC09_L1TP_009029_20230922_20230922_02_T1_MTL/LC09_L1TP_009029_20230922_20230922_02_T1_B8-subset.tif'"
   ]
  },
  {
   "cell_type": "markdown",
   "metadata": {},
   "source": [
    "### Setting scale and offset (found in metadata) for each image/band.\n"
   ]
  },
  {
   "cell_type": "code",
   "execution_count": 3,
   "metadata": {},
   "outputs": [],
   "source": [
    "red_scale = 9.9152E-03\n",
    "red_offset = -49.57609\n",
    "\n",
    "green_scale = 1.2757E-02\n",
    "green_offset = -63.78403\n",
    "\n",
    "blue_scale = 1.1769E-02\n",
    "blue_offset = -58.84429\n",
    "\n",
    "pan_scale = 1.1190E-02\n",
    "pan_offset = -55.94908"
   ]
  },
  {
   "cell_type": "markdown",
   "metadata": {},
   "source": [
    "### Converting digital numbers to Radiance for each band image."
   ]
  },
  {
   "cell_type": "markdown",
   "metadata": {},
   "source": [
    "Red band radiance converion & output"
   ]
  },
  {
   "cell_type": "code",
   "execution_count": 4,
   "metadata": {},
   "outputs": [
    {
     "ename": "RasterioIOError",
     "evalue": "LC09_L1TP_009029_20230922_20230922_02_T1_MTL/LC09_L1TP_009029_20230922_20230922_02_T1_B4-subset.tif: No such file or directory",
     "output_type": "error",
     "traceback": [
      "\u001b[1;31m---------------------------------------------------------------------------\u001b[0m",
      "\u001b[1;31mCPLE_OpenFailedError\u001b[0m                      Traceback (most recent call last)",
      "File \u001b[1;32mrasterio\\\\_base.pyx:310\u001b[0m, in \u001b[0;36mrasterio._base.DatasetBase.__init__\u001b[1;34m()\u001b[0m\n",
      "File \u001b[1;32mrasterio\\\\_base.pyx:221\u001b[0m, in \u001b[0;36mrasterio._base.open_dataset\u001b[1;34m()\u001b[0m\n",
      "File \u001b[1;32mrasterio\\\\_err.pyx:221\u001b[0m, in \u001b[0;36mrasterio._err.exc_wrap_pointer\u001b[1;34m()\u001b[0m\n",
      "\u001b[1;31mCPLE_OpenFailedError\u001b[0m: LC09_L1TP_009029_20230922_20230922_02_T1_MTL/LC09_L1TP_009029_20230922_20230922_02_T1_B4-subset.tif: No such file or directory",
      "\nDuring handling of the above exception, another exception occurred:\n",
      "\u001b[1;31mRasterioIOError\u001b[0m                           Traceback (most recent call last)",
      "Cell \u001b[1;32mIn[4], line 1\u001b[0m\n\u001b[1;32m----> 1\u001b[0m \u001b[38;5;28;01mwith\u001b[39;00m \u001b[43mrasterio\u001b[49m\u001b[38;5;241;43m.\u001b[39;49m\u001b[43mopen\u001b[49m\u001b[43m(\u001b[49m\u001b[43mred_input\u001b[49m\u001b[43m,\u001b[49m\u001b[43m \u001b[49m\u001b[38;5;124;43m'\u001b[39;49m\u001b[38;5;124;43mr\u001b[39;49m\u001b[38;5;124;43m'\u001b[39;49m\u001b[43m)\u001b[49m \u001b[38;5;28;01mas\u001b[39;00m red_input:\n\u001b[0;32m      2\u001b[0m     red_profile \u001b[38;5;241m=\u001b[39m red_input\u001b[38;5;241m.\u001b[39mprofile\n\u001b[0;32m      3\u001b[0m     red_data \u001b[38;5;241m=\u001b[39m red_input\u001b[38;5;241m.\u001b[39mread()\n",
      "File \u001b[1;32m~\\AppData\\Local\\Packages\\PythonSoftwareFoundation.Python.3.12_qbz5n2kfra8p0\\LocalCache\\local-packages\\Python312\\site-packages\\rasterio\\env.py:451\u001b[0m, in \u001b[0;36mensure_env_with_credentials.<locals>.wrapper\u001b[1;34m(*args, **kwds)\u001b[0m\n\u001b[0;32m    448\u001b[0m     session \u001b[38;5;241m=\u001b[39m DummySession()\n\u001b[0;32m    450\u001b[0m \u001b[38;5;28;01mwith\u001b[39;00m env_ctor(session\u001b[38;5;241m=\u001b[39msession):\n\u001b[1;32m--> 451\u001b[0m     \u001b[38;5;28;01mreturn\u001b[39;00m \u001b[43mf\u001b[49m\u001b[43m(\u001b[49m\u001b[38;5;241;43m*\u001b[39;49m\u001b[43margs\u001b[49m\u001b[43m,\u001b[49m\u001b[43m \u001b[49m\u001b[38;5;241;43m*\u001b[39;49m\u001b[38;5;241;43m*\u001b[39;49m\u001b[43mkwds\u001b[49m\u001b[43m)\u001b[49m\n",
      "File \u001b[1;32m~\\AppData\\Local\\Packages\\PythonSoftwareFoundation.Python.3.12_qbz5n2kfra8p0\\LocalCache\\local-packages\\Python312\\site-packages\\rasterio\\__init__.py:317\u001b[0m, in \u001b[0;36mopen\u001b[1;34m(fp, mode, driver, width, height, count, crs, transform, dtype, nodata, sharing, **kwargs)\u001b[0m\n\u001b[0;32m    314\u001b[0m path \u001b[38;5;241m=\u001b[39m _parse_path(raw_dataset_path)\n\u001b[0;32m    316\u001b[0m \u001b[38;5;28;01mif\u001b[39;00m mode \u001b[38;5;241m==\u001b[39m \u001b[38;5;124m\"\u001b[39m\u001b[38;5;124mr\u001b[39m\u001b[38;5;124m\"\u001b[39m:\n\u001b[1;32m--> 317\u001b[0m     dataset \u001b[38;5;241m=\u001b[39m \u001b[43mDatasetReader\u001b[49m\u001b[43m(\u001b[49m\u001b[43mpath\u001b[49m\u001b[43m,\u001b[49m\u001b[43m \u001b[49m\u001b[43mdriver\u001b[49m\u001b[38;5;241;43m=\u001b[39;49m\u001b[43mdriver\u001b[49m\u001b[43m,\u001b[49m\u001b[43m \u001b[49m\u001b[43msharing\u001b[49m\u001b[38;5;241;43m=\u001b[39;49m\u001b[43msharing\u001b[49m\u001b[43m,\u001b[49m\u001b[43m \u001b[49m\u001b[38;5;241;43m*\u001b[39;49m\u001b[38;5;241;43m*\u001b[39;49m\u001b[43mkwargs\u001b[49m\u001b[43m)\u001b[49m\n\u001b[0;32m    318\u001b[0m \u001b[38;5;28;01melif\u001b[39;00m mode \u001b[38;5;241m==\u001b[39m \u001b[38;5;124m\"\u001b[39m\u001b[38;5;124mr+\u001b[39m\u001b[38;5;124m\"\u001b[39m:\n\u001b[0;32m    319\u001b[0m     dataset \u001b[38;5;241m=\u001b[39m get_writer_for_path(path, driver\u001b[38;5;241m=\u001b[39mdriver)(\n\u001b[0;32m    320\u001b[0m         path, mode, driver\u001b[38;5;241m=\u001b[39mdriver, sharing\u001b[38;5;241m=\u001b[39msharing, \u001b[38;5;241m*\u001b[39m\u001b[38;5;241m*\u001b[39mkwargs\n\u001b[0;32m    321\u001b[0m     )\n",
      "File \u001b[1;32mrasterio\\\\_base.pyx:312\u001b[0m, in \u001b[0;36mrasterio._base.DatasetBase.__init__\u001b[1;34m()\u001b[0m\n",
      "\u001b[1;31mRasterioIOError\u001b[0m: LC09_L1TP_009029_20230922_20230922_02_T1_MTL/LC09_L1TP_009029_20230922_20230922_02_T1_B4-subset.tif: No such file or directory"
     ]
    }
   ],
   "source": [
    "with rasterio.open(red_input, 'r') as red_input:\n",
    "    red_profile = red_input.profile\n",
    "    red_data = red_input.read()\n",
    "    red_convert = red_data * red_scale + red_offset\n",
    "    red_output ='red_output.tif'\n",
    "    with rasterio.open(red_output, 'w', **red_profile) as red_output:\n",
    "        red_output.write(red_convert)\n"
   ]
  },
  {
   "cell_type": "markdown",
   "metadata": {},
   "source": [
    "Green Band radiance conversion and output"
   ]
  },
  {
   "cell_type": "code",
   "execution_count": null,
   "metadata": {},
   "outputs": [],
   "source": [
    "with rasterio.open(green_input, 'r') as green_input:\n",
    "    green_profile = green_input.profile\n",
    "    green_data = green_input.read()\n",
    "    green_convert = green_data * green_scale + green_offset\n",
    "    green_output ='green_output.tif'\n",
    "    with rasterio.open(green_output, 'w', **green_profile) as green_output:\n",
    "        green_output.write(green_convert)"
   ]
  },
  {
   "cell_type": "markdown",
   "metadata": {},
   "source": [
    "Blue band radiance conversion & output"
   ]
  },
  {
   "cell_type": "code",
   "execution_count": null,
   "metadata": {},
   "outputs": [],
   "source": [
    "with rasterio.open(blue_input, 'r') as blue_input:\n",
    "    blue_profile = blue_input.profile\n",
    "    blue_data = blue_input.read()\n",
    "    blue_convert = blue_data * blue_scale + blue_offset\n",
    "    blue_output ='blue_output.tif'\n",
    "    with rasterio.open(blue_output, 'w', **blue_profile) as blue_output:\n",
    "        blue_output.write(blue_convert)"
   ]
  },
  {
   "cell_type": "markdown",
   "metadata": {},
   "source": [
    "Panchromatic band radiance conversion & output"
   ]
  },
  {
   "cell_type": "code",
   "execution_count": null,
   "metadata": {},
   "outputs": [],
   "source": [
    "with rasterio.open(pan_input, 'r') as pan_input:\n",
    "    pan_profile = pan_input.profile\n",
    "    pan_data = pan_input.read()\n",
    "    pan_convert = pan_data * pan_scale + pan_offset\n",
    "    pan_output ='pan_output.tif'\n",
    "    with rasterio.open(pan_output, 'w', **pan_profile) as pan_output:\n",
    "        pan_output.write(pan_convert)"
   ]
  },
  {
   "cell_type": "markdown",
   "metadata": {},
   "source": [
    "### Upscaling bands with 30m resolution to 15m."
   ]
  },
  {
   "cell_type": "code",
   "execution_count": null,
   "metadata": {},
   "outputs": [],
   "source": [
    "with rasterio.open ('red_output.tif') as red, \\\n",
    "    rasterio.open ('green_output.tif') as green, \\\n",
    "    rasterio.open ('blue_output.tif') as blue, \\\n",
    "    rasterio.open ('pan_output.tif') as pan:\n",
    "\n",
    "    red_band = red.read(1)\n",
    "    green_band = green.read(1)\n",
    "    blue_band = blue.read(1)\n",
    "    pan_band = pan.read(1)\n",
    "\n",
    "    # Creating an empty numpy array with the same shampe as the panchromatic band\n",
    "    red_resample = numpy.empty(pan.shape, dtype=red_band.dtype)\n",
    "    green_resample = numpy.empty(pan.shape, dtype=green_band.dtype)\n",
    "    blue_resample = numpy.empty(pan.shape, dtype=blue_band.dtype)\n",
    "    \n",
    "    # Using reproject function to transform each band and it's repective profile.\n",
    "    red_resampled, red_transform = reproject(\n",
    "        red_band,\n",
    "        red_resample,\n",
    "        src_transform=red.transform,\n",
    "        src_crs=red.crs,\n",
    "        dst_transform=pan.transform,\n",
    "        dst_crs=pan.crs,\n",
    "        red_resampling = Resampling.nearest\n",
    "    )\n",
    "    red_profile = red.profile\n",
    "    red_profile['transform'] = red_transform\n",
    "    red_profile['width'] = pan.width\n",
    "    red_profile['height'] = pan.height\n",
    "    with rasterio.open('red_upscaled.tif', mode='w', **red_profile) as output:\n",
    "        output.write(red_resampled, indexes=1)\n",
    "\n",
    "    green_resampled, green_transform = reproject(\n",
    "        green_band,\n",
    "        green_resample,\n",
    "        src_transform=green.transform,\n",
    "        src_crs=red.crs,\n",
    "        dst_transform=pan.transform,\n",
    "        dst_crs=pan.crs,\n",
    "        green_resampling = Resampling.nearest\n",
    "    )\n",
    "    green_profile = green.profile\n",
    "    green_profile['transform'] = green_transform\n",
    "    green_profile['width'] = pan.width\n",
    "    green_profile['height'] = pan.height\n",
    "    with rasterio.open('green_upscaled.tif', mode='w', **green_profile) as output:\n",
    "        output.write(green_resampled, indexes=1)\n",
    "\n",
    "    blue_resampled, blue_transform = reproject(\n",
    "        blue_band,\n",
    "        blue_resample,\n",
    "        src_transform=blue.transform,\n",
    "        src_crs=blue.crs,\n",
    "        dst_transform=pan.transform,\n",
    "        dst_crs=pan.crs,\n",
    "        blue_resampling = Resampling.nearest\n",
    "    )\n",
    "    blue_profile = blue.profile\n",
    "    blue_profile['transform'] = blue_transform\n",
    "    blue_profile['width'] = pan.width\n",
    "    blue_profile['height'] = pan.height\n",
    "    with rasterio.open('blue_upscaled.tif', mode='w', **blue_profile) as output:\n",
    "        output.write(blue_resampled, indexes=1)    "
   ]
  },
  {
   "cell_type": "markdown",
   "metadata": {},
   "source": [
    "### Using the Brovey Transformation to apply pan sharpening to the upscaled bands"
   ]
  },
  {
   "cell_type": "code",
   "execution_count": null,
   "metadata": {},
   "outputs": [],
   "source": [
    "# Reading upscaled bands\n",
    "with rasterio.open('red_upscaled.tif') as red, \\\n",
    "    rasterio.open('green_upscaled.tif') as green,\\\n",
    "    rasterio.open('blue_upscaled.tif') as blue:\n",
    "\n",
    "    red_up = red.read(1)\n",
    "    green_up = green.read(1)\n",
    "    blue_up = blue.read(1)\n",
    "\n",
    "with rasterio.open('pan_output.tif') as pan:\n",
    "    pan = pan.read(1)\n",
    "\n",
    "# Applying Brovey Transformation to sharpen bands\n",
    "red_brovey = red_up * (pan / (red_up + green_up + blue_up))\n",
    "green_brovey = green_up * (pan / (red_up + green_up + blue_up))\n",
    "blue_brovey = blue_up * (pan / (red_up + green_up + blue_up))\n",
    "\n",
    "# Writing the pan-sharpened images\n",
    "red_sharp = 'red_pan_sharpened.tif'\n",
    "green_sharp = 'green_pan_sharpened.tif'\n",
    "blue_sharp = 'blue_pan_sharpened.tif'\n",
    "\n",
    "with rasterio.open(red_sharp, 'w', **red_profile) as red_sharp_output:\n",
    "    red_sharp_output.write(red_brovey, indexes = 1)\n",
    "\n",
    "with rasterio.open(green_sharp, 'w', **green_profile) as green_sharp_output:\n",
    "    green_sharp_output.write(green_brovey, indexes = 1)\n",
    "\n",
    "with rasterio.open(blue_sharp, 'w', **blue_profile) as blue_sharp_output:\n",
    "    blue_sharp_output.write(blue_brovey, indexes = 1)"
   ]
  },
  {
   "cell_type": "markdown",
   "metadata": {},
   "source": [
    "### Radiometric conversion to scale values back to 16-bit unsigned intergers using converted radiance, scale and offset values"
   ]
  },
  {
   "cell_type": "code",
   "execution_count": null,
   "metadata": {},
   "outputs": [],
   "source": [
    "red_dn = (red_brovey - red_offset) / red_scale\n",
    "green_dn = (green_brovey - green_offset) / green_scale\n",
    "blue_dn = (blue_brovey - blue_offset) / blue_scale\n",
    "\n",
    "# Stacking outputted bands\n",
    "red_filename = 'red_pan_sharpened.tif'\n",
    "green_filename = 'green_pan_sharpened.tif'\n",
    "blue_filename = 'blue_pan_sharpened.tif'\n",
    "\n",
    "filenames = [\n",
    "    red_filename,\n",
    "    green_filename,\n",
    "    blue_filename\n",
    "]\n",
    "\n",
    "# Creating image profile for the output - only necessary to use one file as the basis.\n",
    "with rasterio.open(red_filename) as red:\n",
    "    profile = red.profile\n",
    "\n",
    "# Ensuring the output dataset has 3 bands and are 16-bit unsigned interger datatypes.\n",
    "profile['count'] = 3\n",
    "profile['dtype'] = 'uint16'"
   ]
  },
  {
   "cell_type": "markdown",
   "metadata": {},
   "source": [
    "### Opening the file that data will be written, iterating over file names and indicating the index."
   ]
  },
  {
   "cell_type": "code",
   "execution_count": null,
   "metadata": {},
   "outputs": [],
   "source": [
    "with rasterio.open ('stacked_bands.tif', mode='w', **profile) as output:\n",
    "    for f in filenames:\n",
    "        with rasterio.open(f) as input:\n",
    "            output.write(input.read(1), indexes=filenames.index(f)+1)\n",
    " # Setting colour interpretation   \n",
    "    output.colorinterp = [ColorInterp.red, ColorInterp.green, ColorInterp.blue] "
   ]
  }
 ],
 "metadata": {
  "kernelspec": {
   "display_name": "Python 3",
   "language": "python",
   "name": "python3"
  },
  "language_info": {
   "codemirror_mode": {
    "name": "ipython",
    "version": 3
   },
   "file_extension": ".py",
   "mimetype": "text/x-python",
   "name": "python",
   "nbconvert_exporter": "python",
   "pygments_lexer": "ipython3",
   "version": "3.12.3"
  }
 },
 "nbformat": 4,
 "nbformat_minor": 2
}
